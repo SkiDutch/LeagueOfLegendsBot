{
 "cells": [
  {
   "cell_type": "code",
   "execution_count": 1,
   "metadata": {},
   "outputs": [
    {
     "name": "stderr",
     "output_type": "stream",
     "text": [
      "c:\\Users\\mados\\anaconda3\\envs\\BSAN-6088\\Lib\\site-packages\\sentence_transformers\\cross_encoder\\CrossEncoder.py:11: TqdmExperimentalWarning: Using `tqdm.autonotebook.tqdm` in notebook mode. Use `tqdm.tqdm` instead to force console mode (e.g. in jupyter console)\n",
      "  from tqdm.autonotebook import tqdm, trange\n"
     ]
    }
   ],
   "source": [
    "import pandas as pd\n",
    "import numpy as np\n",
    "import chromadb\n",
    "from chromadb import Client\n",
    "from chromadb import Settings\n",
    "from sentence_transformers import SentenceTransformer"
   ]
  },
  {
   "cell_type": "code",
   "execution_count": 2,
   "metadata": {},
   "outputs": [],
   "source": [
    "# import the champions data\n",
    "champions_df = pd.read_csv('champions.csv')"
   ]
  },
  {
   "cell_type": "code",
   "execution_count": 3,
   "metadata": {},
   "outputs": [
    {
     "data": {
      "text/html": [
       "<div>\n",
       "<style scoped>\n",
       "    .dataframe tbody tr th:only-of-type {\n",
       "        vertical-align: middle;\n",
       "    }\n",
       "\n",
       "    .dataframe tbody tr th {\n",
       "        vertical-align: top;\n",
       "    }\n",
       "\n",
       "    .dataframe thead th {\n",
       "        text-align: right;\n",
       "    }\n",
       "</style>\n",
       "<table border=\"1\" class=\"dataframe\">\n",
       "  <thead>\n",
       "    <tr style=\"text-align: right;\">\n",
       "      <th></th>\n",
       "      <th>champion_name</th>\n",
       "      <th>lore_link</th>\n",
       "      <th>response_code</th>\n",
       "      <th>biography</th>\n",
       "    </tr>\n",
       "  </thead>\n",
       "  <tbody>\n",
       "    <tr>\n",
       "      <th>0</th>\n",
       "      <td>aatrox</td>\n",
       "      <td>https://universe.leagueoflegends.com/en_US/sto...</td>\n",
       "      <td>200.0</td>\n",
       "      <td>Whether mistaken for a demon or god, many tale...</td>\n",
       "    </tr>\n",
       "    <tr>\n",
       "      <th>1</th>\n",
       "      <td>ahri</td>\n",
       "      <td>https://universe.leagueoflegends.com/en_US/sto...</td>\n",
       "      <td>200.0</td>\n",
       "      <td>For most of her life, Ahri's origins were a my...</td>\n",
       "    </tr>\n",
       "    <tr>\n",
       "      <th>2</th>\n",
       "      <td>akali</td>\n",
       "      <td>https://universe.leagueoflegends.com/en_US/sto...</td>\n",
       "      <td>200.0</td>\n",
       "      <td>Ionia has always been a land of wild magic, it...</td>\n",
       "    </tr>\n",
       "    <tr>\n",
       "      <th>3</th>\n",
       "      <td>akshan</td>\n",
       "      <td>https://universe.leagueoflegends.com/en_US/sto...</td>\n",
       "      <td>200.0</td>\n",
       "      <td>Dashing through the shadows of eastern Shurima...</td>\n",
       "    </tr>\n",
       "    <tr>\n",
       "      <th>4</th>\n",
       "      <td>alistar</td>\n",
       "      <td>https://universe.leagueoflegends.com/en_US/sto...</td>\n",
       "      <td>200.0</td>\n",
       "      <td>Many civilizations have resisted Noxus, but no...</td>\n",
       "    </tr>\n",
       "    <tr>\n",
       "      <th>...</th>\n",
       "      <td>...</td>\n",
       "      <td>...</td>\n",
       "      <td>...</td>\n",
       "      <td>...</td>\n",
       "    </tr>\n",
       "    <tr>\n",
       "      <th>163</th>\n",
       "      <td>zeri</td>\n",
       "      <td>https://universe.leagueoflegends.com/en_US/sto...</td>\n",
       "      <td>200.0</td>\n",
       "      <td>Raised in a large working-class family, Zeri g...</td>\n",
       "    </tr>\n",
       "    <tr>\n",
       "      <th>164</th>\n",
       "      <td>ziggs</td>\n",
       "      <td>https://universe.leagueoflegends.com/en_US/sto...</td>\n",
       "      <td>200.0</td>\n",
       "      <td>Ziggs was born with a talent for tinkering, bu...</td>\n",
       "    </tr>\n",
       "    <tr>\n",
       "      <th>165</th>\n",
       "      <td>zilean</td>\n",
       "      <td>https://universe.leagueoflegends.com/en_US/sto...</td>\n",
       "      <td>200.0</td>\n",
       "      <td>Icathia, most desolate and cursed of lands, wa...</td>\n",
       "    </tr>\n",
       "    <tr>\n",
       "      <th>166</th>\n",
       "      <td>zoe</td>\n",
       "      <td>https://universe.leagueoflegends.com/en_US/sto...</td>\n",
       "      <td>200.0</td>\n",
       "      <td>As befits her Targonian Aspectâs nature, Zoe...</td>\n",
       "    </tr>\n",
       "    <tr>\n",
       "      <th>167</th>\n",
       "      <td>zyra</td>\n",
       "      <td>https://universe.leagueoflegends.com/en_US/sto...</td>\n",
       "      <td>200.0</td>\n",
       "      <td>Zyraâs memory is long, and runs as deep as t...</td>\n",
       "    </tr>\n",
       "  </tbody>\n",
       "</table>\n",
       "<p>168 rows × 4 columns</p>\n",
       "</div>"
      ],
      "text/plain": [
       "    champion_name                                          lore_link  \\\n",
       "0          aatrox  https://universe.leagueoflegends.com/en_US/sto...   \n",
       "1            ahri  https://universe.leagueoflegends.com/en_US/sto...   \n",
       "2           akali  https://universe.leagueoflegends.com/en_US/sto...   \n",
       "3          akshan  https://universe.leagueoflegends.com/en_US/sto...   \n",
       "4         alistar  https://universe.leagueoflegends.com/en_US/sto...   \n",
       "..            ...                                                ...   \n",
       "163          zeri  https://universe.leagueoflegends.com/en_US/sto...   \n",
       "164         ziggs  https://universe.leagueoflegends.com/en_US/sto...   \n",
       "165        zilean  https://universe.leagueoflegends.com/en_US/sto...   \n",
       "166           zoe  https://universe.leagueoflegends.com/en_US/sto...   \n",
       "167          zyra  https://universe.leagueoflegends.com/en_US/sto...   \n",
       "\n",
       "     response_code                                          biography  \n",
       "0            200.0  Whether mistaken for a demon or god, many tale...  \n",
       "1            200.0  For most of her life, Ahri's origins were a my...  \n",
       "2            200.0  Ionia has always been a land of wild magic, it...  \n",
       "3            200.0  Dashing through the shadows of eastern Shurima...  \n",
       "4            200.0  Many civilizations have resisted Noxus, but no...  \n",
       "..             ...                                                ...  \n",
       "163          200.0  Raised in a large working-class family, Zeri g...  \n",
       "164          200.0  Ziggs was born with a talent for tinkering, bu...  \n",
       "165          200.0  Icathia, most desolate and cursed of lands, wa...  \n",
       "166          200.0  As befits her Targonian Aspectâs nature, Zoe...  \n",
       "167          200.0  Zyraâs memory is long, and runs as deep as t...  \n",
       "\n",
       "[168 rows x 4 columns]"
      ]
     },
     "execution_count": 3,
     "metadata": {},
     "output_type": "execute_result"
    }
   ],
   "source": [
    "champions_df"
   ]
  },
  {
   "cell_type": "code",
   "execution_count": 4,
   "metadata": {},
   "outputs": [],
   "source": [
    "texts = champions_df['biography'].tolist()\n",
    "names = champions_df['champion_name'].tolist()"
   ]
  },
  {
   "cell_type": "code",
   "execution_count": 5,
   "metadata": {},
   "outputs": [],
   "source": [
    "# Initialize the ChromaDB client\n",
    "client = chromadb.PersistentClient(path='chromachampions.db')\n",
    "collection = client.create_collection('chromachampions')"
   ]
  },
  {
   "cell_type": "code",
   "execution_count": 6,
   "metadata": {},
   "outputs": [],
   "source": [
    "# Initialize the Sentence Transformer model\n",
    "model = SentenceTransformer('all-MiniLM-L6-v2')\n",
    "embeddings = model.encode(texts)"
   ]
  },
  {
   "cell_type": "code",
   "execution_count": 7,
   "metadata": {},
   "outputs": [
    {
     "name": "stdout",
     "output_type": "stream",
     "text": [
      "0       aatrox\n",
      "1         ahri\n",
      "2        akali\n",
      "3       akshan\n",
      "4      alistar\n",
      "        ...   \n",
      "163       zeri\n",
      "164      ziggs\n",
      "165     zilean\n",
      "166        zoe\n",
      "167       zyra\n",
      "Name: champion_name, Length: 168, dtype: object\n"
     ]
    }
   ],
   "source": [
    "print(champions_df['champion_name'])"
   ]
  },
  {
   "cell_type": "code",
   "execution_count": 8,
   "metadata": {},
   "outputs": [],
   "source": [
    "# Insert the data into the collection\n",
    "# Prepare the data to be added\n",
    "ids = [str(i) for i in range(len(texts))]\n",
    "metadatas = [{\"name\": name, \"biography\": text} for name, text in zip(names, texts)]"
   ]
  },
  {
   "cell_type": "code",
   "execution_count": 9,
   "metadata": {},
   "outputs": [],
   "source": [
    "# Add the data into the collection\n",
    "collection.add(\n",
    "    ids=ids,\n",
    "    embeddings=embeddings,\n",
    "    metadatas=metadatas\n",
    ")"
   ]
  },
  {
   "cell_type": "code",
   "execution_count": 10,
   "metadata": {},
   "outputs": [],
   "source": [
    "# query the collection\n",
    "document = collection.query(query_texts=[\"Aatrox\"],\n",
    "                 n_results=1)"
   ]
  },
  {
   "cell_type": "code",
   "execution_count": 11,
   "metadata": {},
   "outputs": [
    {
     "name": "stdout",
     "output_type": "stream",
     "text": [
      "{'ids': [['0']], 'distances': [[1.3354880809783936]], 'metadatas': [[{'biography': 'Whether mistaken for a demon or god, many tales have been told of the Darkin Blade... but few know his real name, or the story of his fall.In ancient times, long before desert sands swallowed the empire, a mighty champion of Shurima was brought before the Sun Disc to become the avatar for a now forgotten celestial ideal. Remade as one of the Ascended, his wings were the golden light of dawn, and his armor sparkled like a constellation of hope from beyond the great veil.Aatrox was his name. He was at the vanguard of every noble conflict. So true and just was his conduct that other god-warriors would always gather at his side, and ten thousand mortals of Shurima marched behind him. When Setaka, the Ascended warrior-queen, called for his help against the rebellion of Icathia, Aatrox answered without hesitation.But no one predicted the extent of the horrors that the rebels would unleashâ\\x80\\x94the Void quickly overwhelmed its Icathian masters, and began the grinding annihilation of all life it encountered.After many years of desperate battle, Aatrox and his brethren finally halted the Voidâ\\x80\\x99s perverse advance, and seared the largest rifts shut. But the surviving Ascended, the self-described Sunborn, had been forever changed by what they had encountered. Though Shurima had triumphed, they all had lost something in their victory... even noble Aatrox.And in time, Shurima fell, as all empires must.Without any monarch to defend, or the existential threat of the Void to test them, Aatrox and the Sunborn began to clash with one another, and eventually this became a war for the ruins of their world. Mortals fleeing the conflict came to know them instead by a new and scornful name: the darkin.Fearing that these fallen Ascended were as dangerous to Runeterraâ\\x80\\x99s survival as the Void incursions had been, the Targonians intervened. It is said that the Aspect of Twilight gave mortals the knowledge to trap the darkin, and the newly reborn Aspect of War united many in fighting back against them. Never fearing any foe, Aatrox and his armies were ready, and he realized only too late that they had been deceived. A force greater than a thousand dead suns pulled him inside the sword he had carried into battle countless times, and forever bound his immortal essence to it.The weapon was a prison, sealing his consciousness in suffocating, eternal darkness, robbing him even of the ability to die. For centuries, he strained against this hellish confinement... until some nameless mortal was foolish enough to try and wield the blade once more. Aatrox seized upon this opportunity, forcing his will and an imitation of his original form onto his bearer, though the process quickly drained all life from the new body.In the years that followed, Aatrox groomed many more hostsâ\\x80\\x94men and women of exceptional vitality or fortitude. Though his grasp of such magics had been limited in life, he learned to take control of a mortal in the span of single breath, and in battle he discovered he could feast on his victims to build himself ever larger and stronger.Aatrox traveled the land, searching desperately, endlessly, for a way return to his previous Ascended formâ\\x80¦ but the riddle of the blade proved unsolvable, and in time he realized he would never be free of it. The flesh he stole and crudely shaped began to feel like a mockery of his former gloryâ\\x80\\x94a cage only slightly larger than the sword. Despair and loathing grew in his heart. The heavenly powers that Aatrox had once embodied had been wiped from the world, and all memory.Raging against this injustice, he arrived at a solution that could only be born of a prisonerâ\\x80\\x99s desperation. If he could not destroy the blade or free himself, then he would embrace oblivion instead.Now, Aatrox marches toward this merciless goal, bringing war and death wherever he goes. He clings to a blind hope: if he can drive all of creation into a final, apocalyptic battleâ\\x80\\x94where everything, everything else is destroyedâ\\x80\\x94then maybe he and the blade will also cease to exist.', 'name': 'aatrox'}]], 'embeddings': None, 'documents': [[None]], 'uris': None, 'data': None}\n"
     ]
    }
   ],
   "source": [
    "# Parse the result for metadata biography\n",
    "print(document)"
   ]
  },
  {
   "cell_type": "code",
   "execution_count": 22,
   "metadata": {},
   "outputs": [
    {
     "data": {
      "text/plain": [
       "'Whether mistaken for a demon or god, many tales have been told of the Darkin Blade... but few know his real name, or the story of his fall.In ancient times, long before desert sands swallowed the empire, a mighty champion of Shurima was brought before the Sun Disc to become the avatar for a now forgotten celestial ideal. Remade as one of the Ascended, his wings were the golden light of dawn, and his armor sparkled like a constellation of hope from beyond the great veil.Aatrox was his name. He was at the vanguard of every noble conflict. So true and just was his conduct that other god-warriors would always gather at his side, and ten thousand mortals of Shurima marched behind him. When Setaka, the Ascended warrior-queen, called for his help against the rebellion of Icathia, Aatrox answered without hesitation.But no one predicted the extent of the horrors that the rebels would unleashâ\\x80\\x94the Void quickly overwhelmed its Icathian masters, and began the grinding annihilation of all life it encountered.After many years of desperate battle, Aatrox and his brethren finally halted the Voidâ\\x80\\x99s perverse advance, and seared the largest rifts shut. But the surviving Ascended, the self-described Sunborn, had been forever changed by what they had encountered. Though Shurima had triumphed, they all had lost something in their victory... even noble Aatrox.And in time, Shurima fell, as all empires must.Without any monarch to defend, or the existential threat of the Void to test them, Aatrox and the Sunborn began to clash with one another, and eventually this became a war for the ruins of their world. Mortals fleeing the conflict came to know them instead by a new and scornful name: the darkin.Fearing that these fallen Ascended were as dangerous to Runeterraâ\\x80\\x99s survival as the Void incursions had been, the Targonians intervened. It is said that the Aspect of Twilight gave mortals the knowledge to trap the darkin, and the newly reborn Aspect of War united many in fighting back against them. Never fearing any foe, Aatrox and his armies were ready, and he realized only too late that they had been deceived. A force greater than a thousand dead suns pulled him inside the sword he had carried into battle countless times, and forever bound his immortal essence to it.The weapon was a prison, sealing his consciousness in suffocating, eternal darkness, robbing him even of the ability to die. For centuries, he strained against this hellish confinement... until some nameless mortal was foolish enough to try and wield the blade once more. Aatrox seized upon this opportunity, forcing his will and an imitation of his original form onto his bearer, though the process quickly drained all life from the new body.In the years that followed, Aatrox groomed many more hostsâ\\x80\\x94men and women of exceptional vitality or fortitude. Though his grasp of such magics had been limited in life, he learned to take control of a mortal in the span of single breath, and in battle he discovered he could feast on his victims to build himself ever larger and stronger.Aatrox traveled the land, searching desperately, endlessly, for a way return to his previous Ascended formâ\\x80¦ but the riddle of the blade proved unsolvable, and in time he realized he would never be free of it. The flesh he stole and crudely shaped began to feel like a mockery of his former gloryâ\\x80\\x94a cage only slightly larger than the sword. Despair and loathing grew in his heart. The heavenly powers that Aatrox had once embodied had been wiped from the world, and all memory.Raging against this injustice, he arrived at a solution that could only be born of a prisonerâ\\x80\\x99s desperation. If he could not destroy the blade or free himself, then he would embrace oblivion instead.Now, Aatrox marches toward this merciless goal, bringing war and death wherever he goes. He clings to a blind hope: if he can drive all of creation into a final, apocalyptic battleâ\\x80\\x94where everything, everything else is destroyedâ\\x80\\x94then maybe he and the blade will also cease to exist.'"
      ]
     },
     "execution_count": 22,
     "metadata": {},
     "output_type": "execute_result"
    }
   ],
   "source": [
    "document[\"metadatas\"][0][0][\"biography\"]"
   ]
  },
  {
   "cell_type": "code",
   "execution_count": 12,
   "metadata": {},
   "outputs": [
    {
     "ename": "NameError",
     "evalue": "name 'documents' is not defined",
     "output_type": "error",
     "traceback": [
      "\u001b[1;31m---------------------------------------------------------------------------\u001b[0m",
      "\u001b[1;31mNameError\u001b[0m                                 Traceback (most recent call last)",
      "Cell \u001b[1;32mIn[12], line 2\u001b[0m\n\u001b[0;32m      1\u001b[0m \u001b[38;5;66;03m# print the documents in the query and store it as text\u001b[39;00m\n\u001b[1;32m----> 2\u001b[0m \u001b[38;5;28;01mfor\u001b[39;00m document \u001b[38;5;129;01min\u001b[39;00m \u001b[43mdocuments\u001b[49m[\u001b[38;5;124m\"\u001b[39m\u001b[38;5;124mmetadatas\u001b[39m\u001b[38;5;124m\"\u001b[39m]:\n\u001b[0;32m      3\u001b[0m     context \u001b[38;5;241m=\u001b[39m documents[\u001b[38;5;124m\"\u001b[39m\u001b[38;5;124mmetadatas\u001b[39m\u001b[38;5;124m\"\u001b[39m][\u001b[38;5;241m0\u001b[39m][\u001b[38;5;241m0\u001b[39m]\n\u001b[0;32m      4\u001b[0m     \u001b[38;5;28mprint\u001b[39m(context[\u001b[38;5;124m\"\u001b[39m\u001b[38;5;124maccess_role\u001b[39m\u001b[38;5;124m\"\u001b[39m])\n",
      "\u001b[1;31mNameError\u001b[0m: name 'documents' is not defined"
     ]
    }
   ],
   "source": [
    "# # print the documents in the query and store it as text\n",
    "# for document in document[\"metadatas\"]:\n",
    "#     context = document[\"metadatas\"][0][0]\n",
    "#     print(context[\"access_role\"])\n",
    "\n",
    "# # print the first item in the dictionary"
   ]
  }
 ],
 "metadata": {
  "kernelspec": {
   "display_name": "BSAN-6088",
   "language": "python",
   "name": "python3"
  },
  "language_info": {
   "codemirror_mode": {
    "name": "ipython",
    "version": 3
   },
   "file_extension": ".py",
   "mimetype": "text/x-python",
   "name": "python",
   "nbconvert_exporter": "python",
   "pygments_lexer": "ipython3",
   "version": "3.11.9"
  }
 },
 "nbformat": 4,
 "nbformat_minor": 2
}
